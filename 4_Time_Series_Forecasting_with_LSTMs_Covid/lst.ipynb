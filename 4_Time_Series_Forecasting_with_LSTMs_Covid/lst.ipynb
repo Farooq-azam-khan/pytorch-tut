{
 "cells": [
  {
   "cell_type": "code",
   "execution_count": 1,
   "metadata": {},
   "outputs": [
    {
     "name": "stdout",
     "output_type": "stream",
     "text": [
      "Setting Params\n"
     ]
    },
    {
     "data": {
      "text/plain": [
       "<torch._C.Generator at 0x18f43621e10>"
      ]
     },
     "execution_count": 1,
     "metadata": {},
     "output_type": "execute_result"
    }
   ],
   "source": [
    "import torch \n",
    "import os \n",
    "import numpy as np\n",
    "import tqdm as tqdm \n",
    "import seaborn  as sns \n",
    "from pylab import rcParams \n",
    "from matplotlib import rc \n",
    "from sklearn.preprocessing import MinMaxScaler \n",
    "from pandas.plotting import register_matplotlib_converters\n",
    "from torch import nn, optim \n",
    "import pandas as pd \n",
    "\n",
    "print('Setting Params')\n",
    "sns.set(style='whitegrid', palette='muted', font_scale=1.2)\n",
    "\n",
    "HAPPY_COLORS_PALETTE = [\"#01BEFE\", \"#FFDD00\", \"#FF7D00\", \"#FF006D\", \"#93D30C\", \"#8F0210FF\"]\n",
    "sns.set_palette(sns.color_palette(HAPPY_COLORS_PALETTE))\n",
    "rcParams['figure.figsize'] = 14, 10\n",
    "register_matplotlib_converters()\n",
    "RANDOM_SEED = 42\n",
    "np.random.seed(RANDOM_SEED)\n",
    "torch.manual_seed(RANDOM_SEED)\n"
   ]
  },
  {
   "cell_type": "code",
   "execution_count": 2,
   "metadata": {},
   "outputs": [
    {
     "data": {
      "text/html": [
       "<div>\n",
       "<style scoped>\n",
       "    .dataframe tbody tr th:only-of-type {\n",
       "        vertical-align: middle;\n",
       "    }\n",
       "\n",
       "    .dataframe tbody tr th {\n",
       "        vertical-align: top;\n",
       "    }\n",
       "\n",
       "    .dataframe thead th {\n",
       "        text-align: right;\n",
       "    }\n",
       "</style>\n",
       "<table border=\"1\" class=\"dataframe\">\n",
       "  <thead>\n",
       "    <tr style=\"text-align: right;\">\n",
       "      <th></th>\n",
       "      <th>Province/State</th>\n",
       "      <th>Country/Region</th>\n",
       "      <th>Lat</th>\n",
       "      <th>Long</th>\n",
       "      <th>1/22/20</th>\n",
       "      <th>1/23/20</th>\n",
       "      <th>1/24/20</th>\n",
       "      <th>1/25/20</th>\n",
       "      <th>1/26/20</th>\n",
       "      <th>1/27/20</th>\n",
       "      <th>...</th>\n",
       "      <th>1/14/22</th>\n",
       "      <th>1/15/22</th>\n",
       "      <th>1/16/22</th>\n",
       "      <th>1/17/22</th>\n",
       "      <th>1/18/22</th>\n",
       "      <th>1/19/22</th>\n",
       "      <th>1/20/22</th>\n",
       "      <th>1/21/22</th>\n",
       "      <th>1/22/22</th>\n",
       "      <th>1/23/22</th>\n",
       "    </tr>\n",
       "  </thead>\n",
       "  <tbody>\n",
       "    <tr>\n",
       "      <th>0</th>\n",
       "      <td>NaN</td>\n",
       "      <td>Afghanistan</td>\n",
       "      <td>33.939110</td>\n",
       "      <td>67.709953</td>\n",
       "      <td>0</td>\n",
       "      <td>0</td>\n",
       "      <td>0</td>\n",
       "      <td>0</td>\n",
       "      <td>0</td>\n",
       "      <td>0</td>\n",
       "      <td>...</td>\n",
       "      <td>158639</td>\n",
       "      <td>158678</td>\n",
       "      <td>158717</td>\n",
       "      <td>158826</td>\n",
       "      <td>158974</td>\n",
       "      <td>159070</td>\n",
       "      <td>159303</td>\n",
       "      <td>159516</td>\n",
       "      <td>159548</td>\n",
       "      <td>159649</td>\n",
       "    </tr>\n",
       "    <tr>\n",
       "      <th>1</th>\n",
       "      <td>NaN</td>\n",
       "      <td>Albania</td>\n",
       "      <td>41.153300</td>\n",
       "      <td>20.168300</td>\n",
       "      <td>0</td>\n",
       "      <td>0</td>\n",
       "      <td>0</td>\n",
       "      <td>0</td>\n",
       "      <td>0</td>\n",
       "      <td>0</td>\n",
       "      <td>...</td>\n",
       "      <td>228777</td>\n",
       "      <td>230940</td>\n",
       "      <td>232637</td>\n",
       "      <td>233654</td>\n",
       "      <td>236486</td>\n",
       "      <td>239129</td>\n",
       "      <td>241512</td>\n",
       "      <td>244182</td>\n",
       "      <td>246412</td>\n",
       "      <td>248070</td>\n",
       "    </tr>\n",
       "    <tr>\n",
       "      <th>2</th>\n",
       "      <td>NaN</td>\n",
       "      <td>Algeria</td>\n",
       "      <td>28.033900</td>\n",
       "      <td>1.659600</td>\n",
       "      <td>0</td>\n",
       "      <td>0</td>\n",
       "      <td>0</td>\n",
       "      <td>0</td>\n",
       "      <td>0</td>\n",
       "      <td>0</td>\n",
       "      <td>...</td>\n",
       "      <td>224979</td>\n",
       "      <td>225484</td>\n",
       "      <td>226057</td>\n",
       "      <td>226749</td>\n",
       "      <td>227559</td>\n",
       "      <td>228918</td>\n",
       "      <td>230470</td>\n",
       "      <td>232325</td>\n",
       "      <td>234536</td>\n",
       "      <td>236670</td>\n",
       "    </tr>\n",
       "    <tr>\n",
       "      <th>3</th>\n",
       "      <td>NaN</td>\n",
       "      <td>Andorra</td>\n",
       "      <td>42.506300</td>\n",
       "      <td>1.521800</td>\n",
       "      <td>0</td>\n",
       "      <td>0</td>\n",
       "      <td>0</td>\n",
       "      <td>0</td>\n",
       "      <td>0</td>\n",
       "      <td>0</td>\n",
       "      <td>...</td>\n",
       "      <td>29888</td>\n",
       "      <td>29888</td>\n",
       "      <td>29888</td>\n",
       "      <td>29888</td>\n",
       "      <td>29888</td>\n",
       "      <td>29888</td>\n",
       "      <td>32201</td>\n",
       "      <td>33025</td>\n",
       "      <td>33025</td>\n",
       "      <td>33025</td>\n",
       "    </tr>\n",
       "    <tr>\n",
       "      <th>4</th>\n",
       "      <td>NaN</td>\n",
       "      <td>Angola</td>\n",
       "      <td>-11.202700</td>\n",
       "      <td>17.873900</td>\n",
       "      <td>0</td>\n",
       "      <td>0</td>\n",
       "      <td>0</td>\n",
       "      <td>0</td>\n",
       "      <td>0</td>\n",
       "      <td>0</td>\n",
       "      <td>...</td>\n",
       "      <td>93302</td>\n",
       "      <td>93524</td>\n",
       "      <td>93694</td>\n",
       "      <td>93974</td>\n",
       "      <td>94275</td>\n",
       "      <td>94779</td>\n",
       "      <td>95220</td>\n",
       "      <td>95676</td>\n",
       "      <td>95902</td>\n",
       "      <td>96582</td>\n",
       "    </tr>\n",
       "    <tr>\n",
       "      <th>...</th>\n",
       "      <td>...</td>\n",
       "      <td>...</td>\n",
       "      <td>...</td>\n",
       "      <td>...</td>\n",
       "      <td>...</td>\n",
       "      <td>...</td>\n",
       "      <td>...</td>\n",
       "      <td>...</td>\n",
       "      <td>...</td>\n",
       "      <td>...</td>\n",
       "      <td>...</td>\n",
       "      <td>...</td>\n",
       "      <td>...</td>\n",
       "      <td>...</td>\n",
       "      <td>...</td>\n",
       "      <td>...</td>\n",
       "      <td>...</td>\n",
       "      <td>...</td>\n",
       "      <td>...</td>\n",
       "      <td>...</td>\n",
       "      <td>...</td>\n",
       "    </tr>\n",
       "    <tr>\n",
       "      <th>275</th>\n",
       "      <td>NaN</td>\n",
       "      <td>Vietnam</td>\n",
       "      <td>14.058324</td>\n",
       "      <td>108.277199</td>\n",
       "      <td>0</td>\n",
       "      <td>2</td>\n",
       "      <td>2</td>\n",
       "      <td>2</td>\n",
       "      <td>2</td>\n",
       "      <td>2</td>\n",
       "      <td>...</td>\n",
       "      <td>1991484</td>\n",
       "      <td>2007862</td>\n",
       "      <td>2023546</td>\n",
       "      <td>2023546</td>\n",
       "      <td>2062128</td>\n",
       "      <td>2078087</td>\n",
       "      <td>2094802</td>\n",
       "      <td>2110737</td>\n",
       "      <td>2126444</td>\n",
       "      <td>2141422</td>\n",
       "    </tr>\n",
       "    <tr>\n",
       "      <th>276</th>\n",
       "      <td>NaN</td>\n",
       "      <td>West Bank and Gaza</td>\n",
       "      <td>31.952200</td>\n",
       "      <td>35.233200</td>\n",
       "      <td>0</td>\n",
       "      <td>0</td>\n",
       "      <td>0</td>\n",
       "      <td>0</td>\n",
       "      <td>0</td>\n",
       "      <td>0</td>\n",
       "      <td>...</td>\n",
       "      <td>474234</td>\n",
       "      <td>474234</td>\n",
       "      <td>474234</td>\n",
       "      <td>476328</td>\n",
       "      <td>477151</td>\n",
       "      <td>478084</td>\n",
       "      <td>479343</td>\n",
       "      <td>480583</td>\n",
       "      <td>480583</td>\n",
       "      <td>480583</td>\n",
       "    </tr>\n",
       "    <tr>\n",
       "      <th>277</th>\n",
       "      <td>NaN</td>\n",
       "      <td>Yemen</td>\n",
       "      <td>15.552727</td>\n",
       "      <td>48.516388</td>\n",
       "      <td>0</td>\n",
       "      <td>0</td>\n",
       "      <td>0</td>\n",
       "      <td>0</td>\n",
       "      <td>0</td>\n",
       "      <td>0</td>\n",
       "      <td>...</td>\n",
       "      <td>10233</td>\n",
       "      <td>10233</td>\n",
       "      <td>10252</td>\n",
       "      <td>10352</td>\n",
       "      <td>10408</td>\n",
       "      <td>10449</td>\n",
       "      <td>10507</td>\n",
       "      <td>10585</td>\n",
       "      <td>10585</td>\n",
       "      <td>10585</td>\n",
       "    </tr>\n",
       "    <tr>\n",
       "      <th>278</th>\n",
       "      <td>NaN</td>\n",
       "      <td>Zambia</td>\n",
       "      <td>-13.133897</td>\n",
       "      <td>27.849332</td>\n",
       "      <td>0</td>\n",
       "      <td>0</td>\n",
       "      <td>0</td>\n",
       "      <td>0</td>\n",
       "      <td>0</td>\n",
       "      <td>0</td>\n",
       "      <td>...</td>\n",
       "      <td>293695</td>\n",
       "      <td>295028</td>\n",
       "      <td>296132</td>\n",
       "      <td>296817</td>\n",
       "      <td>298032</td>\n",
       "      <td>299172</td>\n",
       "      <td>299971</td>\n",
       "      <td>300587</td>\n",
       "      <td>301203</td>\n",
       "      <td>301630</td>\n",
       "    </tr>\n",
       "    <tr>\n",
       "      <th>279</th>\n",
       "      <td>NaN</td>\n",
       "      <td>Zimbabwe</td>\n",
       "      <td>-19.015438</td>\n",
       "      <td>29.154857</td>\n",
       "      <td>0</td>\n",
       "      <td>0</td>\n",
       "      <td>0</td>\n",
       "      <td>0</td>\n",
       "      <td>0</td>\n",
       "      <td>0</td>\n",
       "      <td>...</td>\n",
       "      <td>225637</td>\n",
       "      <td>225637</td>\n",
       "      <td>226078</td>\n",
       "      <td>226460</td>\n",
       "      <td>226460</td>\n",
       "      <td>226887</td>\n",
       "      <td>227552</td>\n",
       "      <td>227961</td>\n",
       "      <td>228179</td>\n",
       "      <td>228254</td>\n",
       "    </tr>\n",
       "  </tbody>\n",
       "</table>\n",
       "<p>280 rows × 737 columns</p>\n",
       "</div>"
      ],
      "text/plain": [
       "    Province/State      Country/Region        Lat        Long  1/22/20  \\\n",
       "0              NaN         Afghanistan  33.939110   67.709953        0   \n",
       "1              NaN             Albania  41.153300   20.168300        0   \n",
       "2              NaN             Algeria  28.033900    1.659600        0   \n",
       "3              NaN             Andorra  42.506300    1.521800        0   \n",
       "4              NaN              Angola -11.202700   17.873900        0   \n",
       "..             ...                 ...        ...         ...      ...   \n",
       "275            NaN             Vietnam  14.058324  108.277199        0   \n",
       "276            NaN  West Bank and Gaza  31.952200   35.233200        0   \n",
       "277            NaN               Yemen  15.552727   48.516388        0   \n",
       "278            NaN              Zambia -13.133897   27.849332        0   \n",
       "279            NaN            Zimbabwe -19.015438   29.154857        0   \n",
       "\n",
       "     1/23/20  1/24/20  1/25/20  1/26/20  1/27/20  ...  1/14/22  1/15/22  \\\n",
       "0          0        0        0        0        0  ...   158639   158678   \n",
       "1          0        0        0        0        0  ...   228777   230940   \n",
       "2          0        0        0        0        0  ...   224979   225484   \n",
       "3          0        0        0        0        0  ...    29888    29888   \n",
       "4          0        0        0        0        0  ...    93302    93524   \n",
       "..       ...      ...      ...      ...      ...  ...      ...      ...   \n",
       "275        2        2        2        2        2  ...  1991484  2007862   \n",
       "276        0        0        0        0        0  ...   474234   474234   \n",
       "277        0        0        0        0        0  ...    10233    10233   \n",
       "278        0        0        0        0        0  ...   293695   295028   \n",
       "279        0        0        0        0        0  ...   225637   225637   \n",
       "\n",
       "     1/16/22  1/17/22  1/18/22  1/19/22  1/20/22  1/21/22  1/22/22  1/23/22  \n",
       "0     158717   158826   158974   159070   159303   159516   159548   159649  \n",
       "1     232637   233654   236486   239129   241512   244182   246412   248070  \n",
       "2     226057   226749   227559   228918   230470   232325   234536   236670  \n",
       "3      29888    29888    29888    29888    32201    33025    33025    33025  \n",
       "4      93694    93974    94275    94779    95220    95676    95902    96582  \n",
       "..       ...      ...      ...      ...      ...      ...      ...      ...  \n",
       "275  2023546  2023546  2062128  2078087  2094802  2110737  2126444  2141422  \n",
       "276   474234   476328   477151   478084   479343   480583   480583   480583  \n",
       "277    10252    10352    10408    10449    10507    10585    10585    10585  \n",
       "278   296132   296817   298032   299172   299971   300587   301203   301630  \n",
       "279   226078   226460   226460   226887   227552   227961   228179   228254  \n",
       "\n",
       "[280 rows x 737 columns]"
      ]
     },
     "execution_count": 2,
     "metadata": {},
     "output_type": "execute_result"
    }
   ],
   "source": [
    "df = pd.read_csv('./data/time_series_covid19_confirmed_global.csv')\n",
    "df\n"
   ]
  },
  {
   "cell_type": "code",
   "execution_count": 4,
   "metadata": {},
   "outputs": [],
   "source": [
    "df = df.iloc[:,4:]"
   ]
  },
  {
   "cell_type": "code",
   "execution_count": 16,
   "metadata": {},
   "outputs": [],
   "source": [
    "daily_cases = df.sum(axis=0) # sum across the columns\n",
    "daily_cases.index = pd.to_datetime(daily_cases.index)"
   ]
  },
  {
   "cell_type": "code",
   "execution_count": 17,
   "metadata": {},
   "outputs": [
    {
     "data": {
      "text/plain": [
       "2020-01-22          557\n",
       "2020-01-23          655\n",
       "2020-01-24          941\n",
       "2020-01-25         1434\n",
       "2020-01-26         2118\n",
       "                ...    \n",
       "2022-01-19    339002398\n",
       "2022-01-20    342581803\n",
       "2022-01-21    346464304\n",
       "2022-01-22    349134552\n",
       "2022-01-23    351378115\n",
       "Length: 733, dtype: int64"
      ]
     },
     "execution_count": 17,
     "metadata": {},
     "output_type": "execute_result"
    }
   ],
   "source": [
    "daily_cases"
   ]
  },
  {
   "cell_type": "code",
   "execution_count": 20,
   "metadata": {},
   "outputs": [
    {
     "data": {
      "text/plain": [
       "Text(0.5, 1.0, 'Cummulative daily cases')"
      ]
     },
     "execution_count": 20,
     "metadata": {},
     "output_type": "execute_result"
    },
    {
     "data": {
      "image/png": "[encoded data removed]",
      "text/plain": [
       "<Figure size 1008x720 with 1 Axes>"
      ]
     },
     "metadata": {},
     "output_type": "display_data"
    }
   ],
   "source": [
    "import matplotlib.pyplot as plt \n",
    "plt.plot(daily_cases)\n",
    "plt.title('Cummulative daily cases')"
   ]
  },
  {
   "cell_type": "code",
   "execution_count": 23,
   "metadata": {},
   "outputs": [],
   "source": [
    "# https://pandas.pydata.org/docs/reference/api/pandas.DataFrame.diff.html\n",
    "daily_cases = daily_cases.diff().fillna(daily_cases[0]).astype(np.int64)"
   ]
  },
  {
   "cell_type": "code",
   "execution_count": 22,
   "metadata": {},
   "outputs": [
    {
     "data": {
      "text/plain": [
       "2020-01-22        557\n",
       "2020-01-23         98\n",
       "2020-01-24        286\n",
       "2020-01-25        493\n",
       "2020-01-26        684\n",
       "               ...   \n",
       "2022-01-19    4232499\n",
       "2022-01-20    3579405\n",
       "2022-01-21    3882501\n",
       "2022-01-22    2670248\n",
       "2022-01-23    2243563\n",
       "Length: 733, dtype: int64"
      ]
     },
     "execution_count": 22,
     "metadata": {},
     "output_type": "execute_result"
    }
   ],
   "source": [
    "daily_cases"
   ]
  },
  {
   "cell_type": "code",
   "execution_count": 24,
   "metadata": {},
   "outputs": [
    {
     "data": {
      "text/plain": [
       "Text(0.5, 1.0, 'Daily Cases')"
      ]
     },
     "execution_count": 24,
     "metadata": {},
     "output_type": "execute_result"
    },
    {
     "data": {
      "image/png": "[encoded data removed]",
      "text/plain": [
       "<Figure size 1008x720 with 1 Axes>"
      ]
     },
     "metadata": {},
     "output_type": "display_data"
    }
   ],
   "source": [
    "plt.plot(daily_cases)\n",
    "plt.title('Daily Cases')"
   ]
  },
  {
   "cell_type": "code",
   "execution_count": 25,
   "metadata": {},
   "outputs": [
    {
     "data": {
      "text/plain": [
       "(733,)"
      ]
     },
     "execution_count": 25,
     "metadata": {},
     "output_type": "execute_result"
    }
   ],
   "source": [
    "daily_cases.shape"
   ]
  },
  {
   "cell_type": "code",
   "execution_count": 30,
   "metadata": {},
   "outputs": [],
   "source": [
    "test_data_size = 14\n",
    "train_data = daily_cases[:-test_data_size]\n",
    "test_data = daily_cases[-test_data_size:]"
   ]
  },
  {
   "cell_type": "code",
   "execution_count": 31,
   "metadata": {},
   "outputs": [
    {
     "data": {
      "text/plain": [
       "(719, 14)"
      ]
     },
     "execution_count": 31,
     "metadata": {},
     "output_type": "execute_result"
    }
   ],
   "source": [
    "train_data.shape[0], test_data.shape[0]"
   ]
  },
  {
   "cell_type": "code",
   "execution_count": 32,
   "metadata": {},
   "outputs": [],
   "source": [
    "scaler = MinMaxScaler()\n",
    "scaler = scaler.fit(np.expand_dims(train_data, axis=1))\n",
    "train_data = scaler.transform(np.expand_dims(train_data, axis=1))\n",
    "test_data = scaler.transform(np.expand_dims(test_data, axis=1))"
   ]
  },
  {
   "cell_type": "code",
   "execution_count": 35,
   "metadata": {},
   "outputs": [
    {
     "data": {
      "text/plain": [
       "((719, 1), (14, 1))"
      ]
     },
     "execution_count": 35,
     "metadata": {},
     "output_type": "execute_result"
    }
   ],
   "source": [
    "train_data.shape, test_data.shape"
   ]
  },
  {
   "cell_type": "code",
   "execution_count": null,
   "metadata": {},
   "outputs": [],
   "source": []
  }
 ],
 "metadata": {
  "interpreter": {
   "hash": "85adfa34c150bbdeee52254af76726156ffaf20589f55c5493cd53d6a2127e88"
  },
  "kernelspec": {
   "display_name": "Python 3.8.10 64-bit",
   "language": "python",
   "name": "python3"
  },
  "language_info": {
   "codemirror_mode": {
    "name": "ipython",
    "version": 3
   },
   "file_extension": ".py",
   "mimetype": "text/x-python",
   "name": "python",
   "nbconvert_exporter": "python",
   "pygments_lexer": "ipython3",
   "version": "3.8.10"
  },
  "orig_nbformat": 4
 },
 "nbformat": 4,
 "nbformat_minor": 2
}
